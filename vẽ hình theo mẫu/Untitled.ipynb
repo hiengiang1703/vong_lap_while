{
 "cells": [
  {
   "cell_type": "code",
   "execution_count": null,
   "id": "7f701c90",
   "metadata": {},
   "outputs": [],
   "source": [
    "import turtle\n",
    "t = turtle.Turtle()\n",
    "t.pensize(2)\n",
    "t.circle(goc, step= )\n",
    "\n"
   ]
  },
  {
   "cell_type": "code",
   "execution_count": 31,
   "id": "3fa652c5",
   "metadata": {},
   "outputs": [],
   "source": [
    "import turtle\n",
    "    \n",
    "t = turtle.Turtle()\n",
    "turtle.bgcolor(\"black\")\n",
    "t.speed(10)\n",
    "  \n",
    "r = 100\n",
    "i = 0\n",
    "degrees = 0\n",
    "colorArray = [\"red\", \"green\", \"blue\", \"orange\", \"violet\"]\n",
    "\n",
    "# Loop for printing spiral circle\n",
    "while i < 2:\n",
    "    t.circle(r , 90)\n",
    "    t.circle(r / 2, 90)\n",
    "    i += 1\n",
    "\n",
    "turtle.done()"
   ]
  },
  {
   "cell_type": "code",
   "execution_count": null,
   "id": "b303a7b8",
   "metadata": {},
   "outputs": [],
   "source": [
    "import turtle\n",
    "import random\n",
    "    \n",
    "t = turtle.Turtle()\n",
    "turtle.bgcolor(\"black\")\n",
    "t.speed(50)\n",
    "  \n",
    "r = 100\n",
    "i = 0\n",
    "degrees = 0\n",
    "colors = [\"red\", \"green\", \"blue\", \"orange\", \"violet\", \"pink\", \"yellow\"]\n",
    "\n",
    "while degrees < 360:\n",
    "    #.pencolor(colors)\n",
    "    t.pencolor(random.choice(colors))\n",
    "    while i < 2:\n",
    "        t.circle(r , 90)\n",
    "        t.circle(r / 2, 90)\n",
    "        i += 1\n",
    "    t.rt(10)\n",
    "    i = 0\n",
    "    degrees += 10\n",
    "    \n",
    "turtle.done()\n",
    "    \n",
    "  "
   ]
  },
  {
   "cell_type": "code",
   "execution_count": null,
   "id": "68fad6d1",
   "metadata": {},
   "outputs": [],
   "source": []
  },
  {
   "cell_type": "code",
   "execution_count": null,
   "id": "b891e4b3",
   "metadata": {},
   "outputs": [],
   "source": []
  },
  {
   "cell_type": "code",
   "execution_count": null,
   "id": "cda8e715",
   "metadata": {},
   "outputs": [],
   "source": []
  },
  {
   "cell_type": "code",
   "execution_count": null,
   "id": "8c9acc75",
   "metadata": {},
   "outputs": [],
   "source": []
  }
 ],
 "metadata": {
  "kernelspec": {
   "display_name": "Python 3",
   "language": "python",
   "name": "python3"
  },
  "language_info": {
   "codemirror_mode": {
    "name": "ipython",
    "version": 3
   },
   "file_extension": ".py",
   "mimetype": "text/x-python",
   "name": "python",
   "nbconvert_exporter": "python",
   "pygments_lexer": "ipython3",
   "version": "3.6.7rc1"
  }
 },
 "nbformat": 4,
 "nbformat_minor": 5
}

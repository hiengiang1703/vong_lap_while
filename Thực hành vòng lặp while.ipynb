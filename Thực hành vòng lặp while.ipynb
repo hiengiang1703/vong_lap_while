{
 "cells": [
  {
   "cell_type": "code",
   "execution_count": null,
   "id": "272a3a95",
   "metadata": {},
   "outputs": [],
   "source": [
    "'''\n",
    "Khởi động 1: Viết chương trình in ra tất cả các số chia hết cho cả 5 và 7 trong khoảng từ 1500 đến 2700\n",
    "'''"
   ]
  },
  {
   "cell_type": "code",
   "execution_count": 5,
   "id": "18dbe371",
   "metadata": {},
   "outputs": [
    {
     "name": "stdout",
     "output_type": "stream",
     "text": [
      "số chia hết cho cả 5 và 7: 1505\n",
      "số chia hết cho cả 5 và 7: 1540\n",
      "số chia hết cho cả 5 và 7: 1575\n",
      "số chia hết cho cả 5 và 7: 1610\n",
      "số chia hết cho cả 5 và 7: 1645\n",
      "số chia hết cho cả 5 và 7: 1680\n",
      "số chia hết cho cả 5 và 7: 1715\n",
      "số chia hết cho cả 5 và 7: 1750\n",
      "số chia hết cho cả 5 và 7: 1785\n",
      "số chia hết cho cả 5 và 7: 1820\n",
      "số chia hết cho cả 5 và 7: 1855\n",
      "số chia hết cho cả 5 và 7: 1890\n",
      "số chia hết cho cả 5 và 7: 1925\n",
      "số chia hết cho cả 5 và 7: 1960\n",
      "số chia hết cho cả 5 và 7: 1995\n",
      "số chia hết cho cả 5 và 7: 2030\n",
      "số chia hết cho cả 5 và 7: 2065\n",
      "số chia hết cho cả 5 và 7: 2100\n",
      "số chia hết cho cả 5 và 7: 2135\n",
      "số chia hết cho cả 5 và 7: 2170\n",
      "số chia hết cho cả 5 và 7: 2205\n",
      "số chia hết cho cả 5 và 7: 2240\n",
      "số chia hết cho cả 5 và 7: 2275\n",
      "số chia hết cho cả 5 và 7: 2310\n",
      "số chia hết cho cả 5 và 7: 2345\n",
      "số chia hết cho cả 5 và 7: 2380\n",
      "số chia hết cho cả 5 và 7: 2415\n",
      "số chia hết cho cả 5 và 7: 2450\n",
      "số chia hết cho cả 5 và 7: 2485\n",
      "số chia hết cho cả 5 và 7: 2520\n",
      "số chia hết cho cả 5 và 7: 2555\n",
      "số chia hết cho cả 5 và 7: 2590\n",
      "số chia hết cho cả 5 và 7: 2625\n",
      "số chia hết cho cả 5 và 7: 2660\n",
      "số chia hết cho cả 5 và 7: 2695\n"
     ]
    }
   ],
   "source": [
    "num = 1500\n",
    "while num <= 2700:\n",
    "    if num % 5 == 0 and num % 7 == 0:\n",
    "        print(f\"số chia hết cho cả 5 và 7: {num}\")\n",
    "    num +=1\n"
   ]
  },
  {
   "cell_type": "code",
   "execution_count": null,
   "id": "87f74c6c",
   "metadata": {},
   "outputs": [],
   "source": [
    "'''\n",
    "Bài 1: Viết chương trình nhập vào chiều cao tam giác vuông và in ra tam giác có hình dạng như sau:\n",
    "*****\n",
    "****\n",
    "***\n",
    "** \n",
    "*\n",
    "'''"
   ]
  },
  {
   "cell_type": "code",
   "execution_count": 7,
   "id": "3522b0b6",
   "metadata": {},
   "outputs": [
    {
     "name": "stdout",
     "output_type": "stream",
     "text": [
      "Nhập chiều cao của tam giác: 5\n",
      "*****\n",
      "****\n",
      "***\n",
      "**\n",
      "*\n"
     ]
    }
   ],
   "source": [
    "# Bài 1\n",
    "chieu_cao = int(input(\"Nhập chiều cao của tam giác: \"))\n",
    "\n",
    "while chieu_cao > 0:\n",
    "    print(chieu_cao * \"*\")\n",
    "    chieu_cao -= 1\n"
   ]
  },
  {
   "cell_type": "code",
   "execution_count": null,
   "id": "ea4c14a8",
   "metadata": {},
   "outputs": [],
   "source": [
    "'''\n",
    "Bài 2: Viết chương trình nhập vào chiều cao tam giác vuông và in ra tam giác có hình dạng như sau:\n",
    "* * * * * *\n",
    "* * * * *\n",
    "* * * *\n",
    "* * *\n",
    "* *\n",
    "*\n",
    "'''"
   ]
  },
  {
   "cell_type": "code",
   "execution_count": 13,
   "id": "d101644c",
   "metadata": {},
   "outputs": [
    {
     "name": "stdout",
     "output_type": "stream",
     "text": [
      "nhập vào số * cạnh trên tam giác: 5\n",
      "* * * * *\n",
      "* * * *\n",
      "* * *\n",
      "* *\n",
      "*\n"
     ]
    }
   ],
   "source": [
    "i = int(input(\"nhập vào số * cạnh trên tam giác: \")) \n",
    "while i > 0:\n",
    "    s = \"* \"*i \n",
    "    s = s.rstrip()\n",
    "    print(s)\n",
    "    i -= 1\n"
   ]
  },
  {
   "cell_type": "code",
   "execution_count": 16,
   "id": "3174bcd9",
   "metadata": {},
   "outputs": [
    {
     "name": "stdout",
     "output_type": "stream",
     "text": [
      "Nhập chiều cao của tam giác: 5\n",
      "* * * * *\n",
      "* * * *\n",
      "* * *\n",
      "* *\n",
      "*\n"
     ]
    }
   ],
   "source": [
    "# Bài 2\n",
    "chieu_cao = int(input(\"Nhập chiều cao của tam giác: \"))\n",
    "\n",
    "while chieu_cao > 0:\n",
    "    print((chieu_cao - 1) * \"* \" + \"*\")\n",
    "    chieu_cao -= 1"
   ]
  },
  {
   "cell_type": "code",
   "execution_count": null,
   "id": "bd17e085",
   "metadata": {},
   "outputs": [],
   "source": [
    "'''\n",
    "Bài 3: Viết chương trình nhập vào chiều cao tam giác vuông và in ra tam giác có hình dạng như sau:\n",
    "* - * - *\n",
    "* - * -  \n",
    "* - *\n",
    "* -\n",
    "*\n",
    "'''"
   ]
  },
  {
   "cell_type": "code",
   "execution_count": 39,
   "id": "daa3f152",
   "metadata": {},
   "outputs": [
    {
     "name": "stdout",
     "output_type": "stream",
     "text": [
      "Nhập chiều cao của tam giác: 5\n",
      "* _ * _ * _ *\n",
      "* _ * _ * _\n",
      "* _ *\n"
     ]
    }
   ],
   "source": [
    "# Bài 3\n",
    "chieu_cao = int(input(\"Nhập chiều cao của tam giác: \"))\n",
    "i = 0\n",
    "while chieu_cao > 0:\n",
    "    if chieu_cao % 2 == 1:\n",
    "        print((chieu_cao - 2) * \"* _ \" + \"*\")\n",
    "    else:\n",
    "        print((chieu_cao - 2) * \"* _ \" + \"*\" + \" _\")\n",
    "    chieu_cao -= 1\n",
    "    i += 1"
   ]
  },
  {
   "cell_type": "code",
   "execution_count": 36,
   "id": "1c9f4408",
   "metadata": {},
   "outputs": [
    {
     "name": "stdout",
     "output_type": "stream",
     "text": [
      "Nhập chiều cao của tam giác: 5\n",
      "* _ * _ *\n",
      "* _ *\n",
      "*\n",
      "*\n",
      "*\n"
     ]
    }
   ],
   "source": [
    "# Bài 3\n",
    "chieu_cao = int(input(\"Nhập chiều cao của tam giác: \"))\n",
    "\n",
    "while chieu_cao > 0:\n",
    "    print((chieu_cao - 3) * \"* _ \" + \"*\")\n",
    "    chieu_cao -= 1"
   ]
  },
  {
   "cell_type": "code",
   "execution_count": null,
   "id": "105b66bc",
   "metadata": {},
   "outputs": [],
   "source": [
    "'''\n",
    "Bài 4: Viết chương trình nhập vào một số nguyên n và in ra các số từ 1 đến n với các trường hợp ngoại lệ như sau:\n",
    "- Nếu số đó chia hết cho 3 thì in \"py\"\n",
    "- Nếu số đó chia hết cho 7 thì in \"thon\"\n",
    "- Nếu số đó chia hết cho cả 3 và 4 thì in \"python\"\n",
    "\n",
    "Ví dụ: n = 25\n",
    "1\n",
    "2\n",
    "py\n",
    "4\n",
    "5\n",
    "py\n",
    "thon\n",
    "8\n",
    "py\n",
    "10\n",
    "11\n",
    "py\n",
    "13\n",
    "thon\n",
    "py\n",
    "16\n",
    "17\n",
    "py\n",
    "19\n",
    "20\n",
    "python\n",
    "22\n",
    "23\n",
    "py\n",
    "25\n",
    "'''"
   ]
  },
  {
   "cell_type": "code",
   "execution_count": 47,
   "id": "1c268284",
   "metadata": {},
   "outputs": [
    {
     "name": "stdout",
     "output_type": "stream",
     "text": [
      "nhập số nguyên n: 25\n",
      "1\n",
      "2\n",
      "py\n",
      "4\n",
      "5\n",
      "py\n",
      "thon\n",
      "8\n",
      "py\n",
      "10\n",
      "11\n",
      "py\n",
      "13\n",
      "thon\n",
      "py\n",
      "16\n",
      "17\n",
      "py\n",
      "19\n",
      "20\n",
      "python\n",
      "22\n",
      "23\n",
      "py\n",
      "25\n"
     ]
    }
   ],
   "source": [
    "n = int(input(\"nhập số nguyên n: \"))\n",
    "i = 1\n",
    "while i <= n:\n",
    "    if i % 3 == 0 and i % 7 == 0:\n",
    "        print(\"python\")\n",
    "    elif i % 3 == 0:\n",
    "        print(\"py\")\n",
    "    elif i % 7 == 0:\n",
    "        print(\"thon\")\n",
    "    else:print(i)\n",
    "    i += 1"
   ]
  },
  {
   "cell_type": "code",
   "execution_count": null,
   "id": "3689744c",
   "metadata": {},
   "outputs": [],
   "source": [
    "'''\n",
    "Bài 5: Viết chương trình nhập vào một số và kiểm tra xem số đó có phải là số nguyên tố hay không\n",
    "Note: Số nguyên tố là số chỉ chia hết cho 1 và chính nó\n",
    "'''"
   ]
  },
  {
   "cell_type": "code",
   "execution_count": 42,
   "id": "baba5bda",
   "metadata": {},
   "outputs": [
    {
     "name": "stdout",
     "output_type": "stream",
     "text": [
      "Nhập vào một số: 9\n",
      "Số 9 không phải là số nguyên tố!\n"
     ]
    }
   ],
   "source": [
    "# Bài 5\n",
    "num = int(input(\"Nhập vào một số: \"))\n",
    "i = 2\n",
    "uoc = 0\n",
    "\n",
    "if num < 2:\n",
    "    print(\"Đây không phải là số nguyên tố!\")\n",
    "else:\n",
    "    while i <= (num / 2):\n",
    "        if num % i == 0:\n",
    "            uoc += 1\n",
    "        i += 1\n",
    "                \n",
    "    if uoc > 0:\n",
    "        print(f\"Số {num} không phải là số nguyên tố!\")\n",
    "    else:\n",
    "        print(f\"Số {num} là số nguyên tố!\")"
   ]
  },
  {
   "cell_type": "code",
   "execution_count": 8,
   "id": "d76fa311",
   "metadata": {},
   "outputs": [
    {
     "data": {
      "text/plain": [
       "'\\nBài 6: Viết chương trình mô phỏng trò chơi kéo búa bao theo luật chơi như sau:\\nQuy ước: 1 - búa, 2 - kéo, 3 - bao\\nKhi trò chơi bắt đầu, yêu cầu người chơi nhập 1 số từ bàn phím đại diện cho kéo, búa, bao\\nChương trình tự random ra một lựa chọn từ 1 đến 3.\\nNếu người chơi thua thì tiếp tục chơi cho đến khi thắng thì kết thúc chương trình.\\nVí dụ:\\n\\nMời lựa chọn(1 - búa, 2 - kéo, 3 - bao): 1\\nMáy tính chọn: 3\\nNgười chơi thua.\\n\\nMời lựa chọn(1 - búa, 2 - kéo, 3 - bao): 2\\nMáy tính chọn: 1\\nNgười chơi thua.\\n\\nMời lựa chọn(1 - búa, 2 - kéo, 3 - bao): 1\\nMáy tính chọn: 2\\nNgười chơi thắng.\\n'"
      ]
     },
     "execution_count": 8,
     "metadata": {},
     "output_type": "execute_result"
    }
   ],
   "source": [
    "'''\n",
    "Bài 6: Viết chương trình mô phỏng trò chơi kéo búa bao theo luật chơi như sau:\n",
    "Quy ước: 1 - búa, 2 - kéo, 3 - bao\n",
    "Khi trò chơi bắt đầu, yêu cầu người chơi nhập 1 số từ bàn phím đại diện cho kéo, búa, bao\n",
    "Chương trình tự random ra một lựa chọn từ 1 đến 3.\n",
    "Nếu người chơi thua thì tiếp tục chơi cho đến khi thắng thì kết thúc chương trình.\n",
    "Ví dụ:\n",
    "\n",
    "Mời lựa chọn(1 - búa, 2 - kéo, 3 - bao): 1\n",
    "Máy tính chọn: 3\n",
    "Người chơi thua.\n",
    "\n",
    "Mời lựa chọn(1 - búa, 2 - kéo, 3 - bao): 2\n",
    "Máy tính chọn: 1\n",
    "Người chơi thua.\n",
    "\n",
    "Mời lựa chọn(1 - búa, 2 - kéo, 3 - bao): 1\n",
    "Máy tính chọn: 2\n",
    "Người chơi thắng.\n",
    "'''"
   ]
  },
  {
   "cell_type": "code",
   "execution_count": 1,
   "id": "df39b517",
   "metadata": {},
   "outputs": [
    {
     "name": "stdout",
     "output_type": "stream",
     "text": [
      "Mời lựa chọn(1 - búa, 2 - kéo, 3 - bao): 1\n",
      "Máy tính chọn: 3\n",
      "Nguời chơi Thua!\n",
      "\n"
     ]
    }
   ],
   "source": [
    "from random import randint as r\n",
    "#num = int(input(\"nhập 1 số từ bàn phím đại diện cho kéo, búa, bao: \"))\n",
    "\n",
    "#if 1 <= num <= 3:\n",
    "#num = None\n",
    "#win = 0\n",
    "#while win >= 1:\n",
    "while True:   \n",
    "    num = int(input(\"Mời lựa chọn(1 - búa, 2 - kéo, 3 - bao): \"))\n",
    "    if 1 <= num <= 3: \n",
    "        com = r(1,3)\n",
    "        print(f\"Máy tính chọn: {com}\")\n",
    "        if num == com:\n",
    "            print(\"Nguời chơi Hòa!\")\n",
    "            print(\"\")\n",
    "        elif (num == 1 and com == 3) or (num == 2 and com == 1) or (num == 3 and com == 2):\n",
    "            print(\"Nguời chơi Thua!\")\n",
    "            print(\"\")\n",
    "        else:\n",
    "            print(\"Nguời chơi Thắng!\")\n",
    "            win += 1\n",
    "        \n",
    "        break "
   ]
  },
  {
   "cell_type": "code",
   "execution_count": 2,
   "id": "802d91c6",
   "metadata": {},
   "outputs": [
    {
     "name": "stdout",
     "output_type": "stream",
     "text": [
      "Mời lựa chọn(1 - búa, 2 - kéo, 3 - bao): 5\n",
      "Mời lựa chọn(1 - búa, 2 - kéo, 3 - bao): 1\n",
      "Máy tính chọn: 1\n",
      "Nguời chơi Hòa!\n",
      "\n",
      "Mời lựa chọn(1 - búa, 2 - kéo, 3 - bao): 2\n",
      "Máy tính chọn: 1\n",
      "Nguời chơi Thua!\n",
      "\n",
      "Mời lựa chọn(1 - búa, 2 - kéo, 3 - bao): 1\n",
      "Máy tính chọn: 3\n",
      "Nguời chơi Thua!\n",
      "\n",
      "Mời lựa chọn(1 - búa, 2 - kéo, 3 - bao): 1\n",
      "Máy tính chọn: 3\n",
      "Nguời chơi Thua!\n",
      "\n",
      "Mời lựa chọn(1 - búa, 2 - kéo, 3 - bao): 2\n",
      "Máy tính chọn: 3\n",
      "Nguời chơi Thắng!\n"
     ]
    }
   ],
   "source": [
    "from random import randint as r\n",
    "#num = int(input(\"nhập 1 số từ bàn phím đại diện cho kéo, búa, bao: \"))\n",
    "win = 1\n",
    "while win > 0:   \n",
    "    num = int(input(\"Mời lựa chọn(1 - búa, 2 - kéo, 3 - bao): \"))\n",
    "    if 1 <= num <= 3: \n",
    "        com = r(1,3)\n",
    "        print(f\"Máy tính chọn: {com}\")\n",
    "        if num == com:\n",
    "            print(\"Nguời chơi Hòa!\")\n",
    "            print(\"\")\n",
    "        elif (num == 1 and com == 3) or (num == 2 and com == 1) or (num == 3 and com == 2):\n",
    "            print(\"Nguời chơi Thua!\")\n",
    "            print(\"\")\n",
    "        else:\n",
    "            print(\"Nguời chơi Thắng!\")\n",
    "            win -= 1\n",
    "            \n",
    "        \n",
    "    "
   ]
  },
  {
   "cell_type": "code",
   "execution_count": null,
   "id": "043f12fc",
   "metadata": {},
   "outputs": [],
   "source": []
  },
  {
   "cell_type": "code",
   "execution_count": null,
   "id": "40c54890",
   "metadata": {},
   "outputs": [],
   "source": []
  },
  {
   "cell_type": "code",
   "execution_count": null,
   "id": "298e158c",
   "metadata": {},
   "outputs": [],
   "source": []
  },
  {
   "cell_type": "code",
   "execution_count": null,
   "id": "65b7e4a0",
   "metadata": {},
   "outputs": [],
   "source": []
  },
  {
   "cell_type": "code",
   "execution_count": null,
   "id": "e6fc5369",
   "metadata": {},
   "outputs": [],
   "source": []
  },
  {
   "cell_type": "code",
   "execution_count": null,
   "id": "51877564",
   "metadata": {},
   "outputs": [],
   "source": []
  },
  {
   "cell_type": "code",
   "execution_count": null,
   "id": "b8c58ee4",
   "metadata": {},
   "outputs": [],
   "source": []
  },
  {
   "cell_type": "code",
   "execution_count": null,
   "id": "a39218df",
   "metadata": {},
   "outputs": [],
   "source": []
  },
  {
   "cell_type": "code",
   "execution_count": null,
   "id": "ba4237e5",
   "metadata": {},
   "outputs": [],
   "source": []
  }
 ],
 "metadata": {
  "kernelspec": {
   "display_name": "Python 3",
   "language": "python",
   "name": "python3"
  },
  "language_info": {
   "codemirror_mode": {
    "name": "ipython",
    "version": 3
   },
   "file_extension": ".py",
   "mimetype": "text/x-python",
   "name": "python",
   "nbconvert_exporter": "python",
   "pygments_lexer": "ipython3",
   "version": "3.6.7rc1"
  }
 },
 "nbformat": 4,
 "nbformat_minor": 5
}

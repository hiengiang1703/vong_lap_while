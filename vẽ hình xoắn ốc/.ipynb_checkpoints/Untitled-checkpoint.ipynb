{
 "cells": [
  {
   "cell_type": "code",
   "execution_count": null,
   "id": "c8f601d5",
   "metadata": {},
   "outputs": [],
   "source": [
    "import turtle\n"
   ]
  },
  {
   "cell_type": "code",
   "execution_count": 122,
   "id": "00956940",
   "metadata": {},
   "outputs": [],
   "source": [
    "t = turtle.Turtle()\n",
    "turtle.bgcolor(\"cadetblue1\")\n",
    "t.pensize(2)\n",
    "t.speed(10)\n",
    "t.pencolor(\"#F44E0E \")"
   ]
  },
  {
   "cell_type": "code",
   "execution_count": null,
   "id": "f28b7f56",
   "metadata": {},
   "outputs": [
    {
     "name": "stdout",
     "output_type": "stream",
     "text": [
      "nhập độ lớn khoảng cách: 50\n",
      "51.0\n"
     ]
    }
   ],
   "source": [
    "khoang_cach = int(input(\"nhập độ lớn khoảng cách: \"))\n",
    "d = 1\n",
    "while True:\n",
    "    t.fd(d)\n",
    "    t.lt(30)\n",
    "    d += 1\n",
    "    if turtle.distance(0, d) - khoang_cach == 1:\n",
    "        break\n",
    "        \n",
    "print(turtle.distance(0, d))\n",
    "           \n",
    "turtle.done()"
   ]
  },
  {
   "cell_type": "code",
   "execution_count": null,
   "id": "c149f415",
   "metadata": {},
   "outputs": [],
   "source": []
  }
 ],
 "metadata": {
  "kernelspec": {
   "display_name": "Python 3",
   "language": "python",
   "name": "python3"
  },
  "language_info": {
   "codemirror_mode": {
    "name": "ipython",
    "version": 3
   },
   "file_extension": ".py",
   "mimetype": "text/x-python",
   "name": "python",
   "nbconvert_exporter": "python",
   "pygments_lexer": "ipython3",
   "version": "3.6.7rc1"
  }
 },
 "nbformat": 4,
 "nbformat_minor": 5
}

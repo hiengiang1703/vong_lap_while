{
 "cells": [
  {
   "cell_type": "code",
   "execution_count": 1,
   "id": "e49b8301",
   "metadata": {},
   "outputs": [],
   "source": [
    "# Import thư viện\n",
    "import turtle\n",
    "import random as r\n"
   ]
  },
  {
   "cell_type": "code",
   "execution_count": 59,
   "id": "c2b18c91",
   "metadata": {},
   "outputs": [],
   "source": [
    "# Ve duong tron gioi han Rua\n",
    "t = turtle.Turtle()\n",
    "turtle.bgcolor(\"cadetblue1\")\n",
    "t.hideturtle()\n",
    "t.speed(10)\n",
    "t.pensize(2)\n",
    "t.pencolor(\"black\")\n",
    "t.penup()\n",
    "# Đưa con trỏ để vẽ hình tròn giữa tâm\n",
    "t.goto(0, -200)\n",
    "t.pendown()\n",
    "t.circle(200)\n"
   ]
  },
  {
   "cell_type": "code",
   "execution_count": 60,
   "id": "a9738734",
   "metadata": {},
   "outputs": [],
   "source": [
    "t.penup()\n",
    "t.shape(\"turtle\")\n",
    "t.color(\"#F44E0E \")\n",
    "t.goto(0, 0)\n",
    "t.showturtle()"
   ]
  },
  {
   "cell_type": "code",
   "execution_count": 61,
   "id": "8bfdf723",
   "metadata": {},
   "outputs": [],
   "source": [
    "i = 0\n",
    "while i < 10:\n",
    "    t.speed(1)\n",
    "    rua_chay = r.randint(130, 188)\n",
    "    t.fd(rua_chay)\n",
    "    t.hideturtle()\n",
    "    t.speed(10)\n",
    "    t.goto(0, 0)\n",
    "    angle = r.randint(0, 360)\n",
    "    t.rt(angle)\n",
    "    t.showturtle()\n",
    "    i += 1\n",
    "    \n",
    "turtle.done()"
   ]
  },
  {
   "cell_type": "code",
   "execution_count": null,
   "id": "c8a648b1",
   "metadata": {},
   "outputs": [],
   "source": []
  },
  {
   "cell_type": "code",
   "execution_count": null,
   "id": "21850758",
   "metadata": {},
   "outputs": [],
   "source": []
  },
  {
   "cell_type": "code",
   "execution_count": null,
   "id": "c6b4f5b2",
   "metadata": {},
   "outputs": [],
   "source": []
  }
 ],
 "metadata": {
  "kernelspec": {
   "display_name": "Python 3",
   "language": "python",
   "name": "python3"
  },
  "language_info": {
   "codemirror_mode": {
    "name": "ipython",
    "version": 3
   },
   "file_extension": ".py",
   "mimetype": "text/x-python",
   "name": "python",
   "nbconvert_exporter": "python",
   "pygments_lexer": "ipython3",
   "version": "3.6.7rc1"
  }
 },
 "nbformat": 4,
 "nbformat_minor": 5
}
